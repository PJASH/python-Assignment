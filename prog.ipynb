{
 "cells": [
  {
   "cell_type": "code",
   "execution_count": 2,
   "id": "2f47e86a",
   "metadata": {},
   "outputs": [
    {
     "name": "stdout",
     "output_type": "stream",
     "text": [
      "Enter your name ABC\n"
     ]
    }
   ],
   "source": [
    "name=input(\"Enter your name \")"
   ]
  },
  {
   "cell_type": "code",
   "execution_count": 3,
   "id": "ec216f0e",
   "metadata": {},
   "outputs": [
    {
     "name": "stdout",
     "output_type": "stream",
     "text": [
      "Enter your age 20\n"
     ]
    }
   ],
   "source": [
    "age=int(input(\"Enter your age \"))"
   ]
  },
  {
   "cell_type": "code",
   "execution_count": 4,
   "id": "8353151e",
   "metadata": {},
   "outputs": [
    {
     "name": "stdout",
     "output_type": "stream",
     "text": [
      "Enter your city Nagercoil\n"
     ]
    }
   ],
   "source": [
    "city=input(\"Enter your city \")"
   ]
  },
  {
   "cell_type": "code",
   "execution_count": 5,
   "id": "453d411e",
   "metadata": {},
   "outputs": [
    {
     "name": "stdout",
     "output_type": "stream",
     "text": [
      "Enter your state Tamil Nadu\n"
     ]
    }
   ],
   "source": [
    "state=input(\"Enter your state \")"
   ]
  },
  {
   "cell_type": "code",
   "execution_count": 7,
   "id": "02fe406c",
   "metadata": {},
   "outputs": [],
   "source": [
    "l=list()\n",
    "l.append(name)"
   ]
  },
  {
   "cell_type": "code",
   "execution_count": 8,
   "id": "c9f1025c",
   "metadata": {},
   "outputs": [],
   "source": [
    "l.append(age)"
   ]
  },
  {
   "cell_type": "code",
   "execution_count": 9,
   "id": "e3b99fce",
   "metadata": {},
   "outputs": [],
   "source": [
    "l.append(state)"
   ]
  },
  {
   "cell_type": "code",
   "execution_count": 10,
   "id": "c5a03e92",
   "metadata": {},
   "outputs": [],
   "source": [
    "l.append(city)"
   ]
  },
  {
   "cell_type": "code",
   "execution_count": 11,
   "id": "efa1e40d",
   "metadata": {},
   "outputs": [
    {
     "data": {
      "text/plain": [
       "['ABC', 20, 'Tamil Nadu', 'Nagercoil']"
      ]
     },
     "execution_count": 11,
     "metadata": {},
     "output_type": "execute_result"
    }
   ],
   "source": [
    "l"
   ]
  },
  {
   "cell_type": "code",
   "execution_count": 13,
   "id": "9435641b",
   "metadata": {},
   "outputs": [
    {
     "name": "stdout",
     "output_type": "stream",
     "text": [
      "Name : ABC\n"
     ]
    }
   ],
   "source": [
    "print('Name : {}'.format(l[0]))"
   ]
  },
  {
   "cell_type": "code",
   "execution_count": 14,
   "id": "d6a415b9",
   "metadata": {},
   "outputs": [
    {
     "name": "stdout",
     "output_type": "stream",
     "text": [
      "age : 20\n"
     ]
    }
   ],
   "source": [
    "print('age : {}'.format(l[1]))"
   ]
  },
  {
   "cell_type": "code",
   "execution_count": 15,
   "id": "46d1363c",
   "metadata": {},
   "outputs": [
    {
     "name": "stdout",
     "output_type": "stream",
     "text": [
      "City : Tamil Nadu\n"
     ]
    }
   ],
   "source": [
    "print('City : {}'.format(l[2]))"
   ]
  },
  {
   "cell_type": "code",
   "execution_count": 16,
   "id": "560d9d1f",
   "metadata": {},
   "outputs": [
    {
     "name": "stdout",
     "output_type": "stream",
     "text": [
      "State : Nagercoil\n"
     ]
    }
   ],
   "source": [
    "print('State : {}'.format(l[3]))"
   ]
  },
  {
   "cell_type": "code",
   "execution_count": null,
   "id": "e23c86d8",
   "metadata": {},
   "outputs": [],
   "source": []
  }
 ],
 "metadata": {
  "kernelspec": {
   "display_name": "Python 3",
   "language": "python",
   "name": "python3"
  },
  "language_info": {
   "codemirror_mode": {
    "name": "ipython",
    "version": 3
   },
   "file_extension": ".py",
   "mimetype": "text/x-python",
   "name": "python",
   "nbconvert_exporter": "python",
   "pygments_lexer": "ipython3",
   "version": "3.8.8"
  }
 },
 "nbformat": 4,
 "nbformat_minor": 5
}
