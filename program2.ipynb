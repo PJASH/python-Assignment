{
 "cells": [
  {
   "cell_type": "code",
   "execution_count": 1,
   "id": "0051d7a2",
   "metadata": {},
   "outputs": [
    {
     "name": "stdout",
     "output_type": "stream",
     "text": [
      "The addition is 15\n"
     ]
    }
   ],
   "source": [
    "a=7\n",
    "b=8\n",
    "print(\"The addition is\",a+b)"
   ]
  },
  {
   "cell_type": "code",
   "execution_count": 2,
   "id": "348031ce",
   "metadata": {},
   "outputs": [
    {
     "name": "stdout",
     "output_type": "stream",
     "text": [
      "remainder is 7\n"
     ]
    }
   ],
   "source": [
    "print(f'remainder is',a%b)"
   ]
  },
  {
   "cell_type": "code",
   "execution_count": 3,
   "id": "008cb486",
   "metadata": {},
   "outputs": [
    {
     "name": "stdout",
     "output_type": "stream",
     "text": [
      "the product of 7 and 8 is 56\n"
     ]
    }
   ],
   "source": [
    "print('the product of {} and {} is'.format(a,b),a*b)"
   ]
  },
  {
   "cell_type": "code",
   "execution_count": 6,
   "id": "a3f8327e",
   "metadata": {},
   "outputs": [
    {
     "name": "stdout",
     "output_type": "stream",
     "text": [
      "the integer quotient of 7 and 8 is 0\n"
     ]
    }
   ],
   "source": [
    "print('the integer quotient of {1} and {0} is'.format(b,a),a//b)"
   ]
  },
  {
   "cell_type": "code",
   "execution_count": 10,
   "id": "5177fb92",
   "metadata": {},
   "outputs": [
    {
     "name": "stdout",
     "output_type": "stream",
     "text": [
      "<class 'list'>\n"
     ]
    },
    {
     "data": {
      "text/plain": [
       "5"
      ]
     },
     "execution_count": 10,
     "metadata": {},
     "output_type": "execute_result"
    }
   ],
   "source": [
    "items=list(\n",
    "    [1,2,3,4,5])\n",
    "print(type(items))\n",
    "max(items)"
   ]
  },
  {
   "cell_type": "code",
   "execution_count": 2,
   "id": "c3b472cf",
   "metadata": {},
   "outputs": [],
   "source": [
    "it=list([9,8,9,6,5])"
   ]
  },
  {
   "cell_type": "code",
   "execution_count": 3,
   "id": "2aaed752",
   "metadata": {},
   "outputs": [
    {
     "data": {
      "text/plain": [
       "5"
      ]
     },
     "execution_count": 3,
     "metadata": {},
     "output_type": "execute_result"
    }
   ],
   "source": [
    "it.pop()"
   ]
  },
  {
   "cell_type": "code",
   "execution_count": 4,
   "id": "1e5dd443",
   "metadata": {},
   "outputs": [],
   "source": [
    "it.append(10)"
   ]
  },
  {
   "cell_type": "code",
   "execution_count": 5,
   "id": "609e65a3",
   "metadata": {},
   "outputs": [
    {
     "data": {
      "text/plain": [
       "[9, 8, 9, 6, 10]"
      ]
     },
     "execution_count": 5,
     "metadata": {},
     "output_type": "execute_result"
    }
   ],
   "source": [
    "it"
   ]
  },
  {
   "cell_type": "code",
   "execution_count": 6,
   "id": "7cb5195b",
   "metadata": {},
   "outputs": [
    {
     "name": "stdout",
     "output_type": "stream",
     "text": [
      "LIST [9, 8, 9, 6, 10]\n"
     ]
    }
   ],
   "source": [
    "print(f'LIST',it)"
   ]
  },
  {
   "cell_type": "code",
   "execution_count": 7,
   "id": "4c344e3e",
   "metadata": {},
   "outputs": [],
   "source": [
    "a=(1,4,6,6,8,9)"
   ]
  },
  {
   "cell_type": "code",
   "execution_count": 9,
   "id": "2b30c4d8",
   "metadata": {},
   "outputs": [
    {
     "name": "stdout",
     "output_type": "stream",
     "text": [
      "TUPLE length 6\n"
     ]
    }
   ],
   "source": [
    "print(f'TUPLE length',len(a))"
   ]
  },
  {
   "cell_type": "code",
   "execution_count": 11,
   "id": "20e06cf1",
   "metadata": {},
   "outputs": [],
   "source": [
    "b={1:'a',2:'b',3:'c',4:'d'}"
   ]
  },
  {
   "cell_type": "code",
   "execution_count": 13,
   "id": "eecb8535",
   "metadata": {},
   "outputs": [
    {
     "name": "stdout",
     "output_type": "stream",
     "text": [
      "Dict keys dict_keys([1, 2, 3, 4])\n"
     ]
    }
   ],
   "source": [
    "print(f'Dict keys',b.keys())"
   ]
  },
  {
   "cell_type": "code",
   "execution_count": 15,
   "id": "aaf51c70",
   "metadata": {},
   "outputs": [
    {
     "name": "stdout",
     "output_type": "stream",
     "text": [
      "The dict keys are dict_keys([1, 2, 3, 4]) and values are dict_values(['a', 'b', 'c', 'd'])\n"
     ]
    }
   ],
   "source": [
    "print('The dict keys are {} and values are {}'.format(b.keys(),b.values()))"
   ]
  },
  {
   "cell_type": "code",
   "execution_count": 16,
   "id": "63da4ef9",
   "metadata": {},
   "outputs": [],
   "source": [
    "a={1,2,34,5,6,7}"
   ]
  },
  {
   "cell_type": "code",
   "execution_count": 21,
   "id": "c432713d",
   "metadata": {},
   "outputs": [
    {
     "name": "stdout",
     "output_type": "stream",
     "text": [
      "<class 'set'>\n"
     ]
    }
   ],
   "source": [
    "print(type(a))"
   ]
  },
  {
   "cell_type": "code",
   "execution_count": 20,
   "id": "e1a33fa1",
   "metadata": {},
   "outputs": [],
   "source": [
    "a.add(9)"
   ]
  },
  {
   "cell_type": "code",
   "execution_count": 22,
   "id": "3018f5b8",
   "metadata": {},
   "outputs": [
    {
     "name": "stdout",
     "output_type": "stream",
     "text": [
      "SET {1, 2, 34, 5, 6, 7, 9}\n"
     ]
    }
   ],
   "source": [
    "print('SET',a)"
   ]
  },
  {
   "cell_type": "code",
   "execution_count": 23,
   "id": "5fe183cd",
   "metadata": {},
   "outputs": [],
   "source": [
    "b[9]='j'"
   ]
  },
  {
   "cell_type": "code",
   "execution_count": 24,
   "id": "e77d1c18",
   "metadata": {},
   "outputs": [
    {
     "data": {
      "text/plain": [
       "{1: 'a', 2: 'b', 3: 'c', 4: 'd', 9: 'j'}"
      ]
     },
     "execution_count": 24,
     "metadata": {},
     "output_type": "execute_result"
    }
   ],
   "source": [
    "b"
   ]
  },
  {
   "cell_type": "code",
   "execution_count": 30,
   "id": "2f537731",
   "metadata": {},
   "outputs": [
    {
     "data": {
      "text/plain": [
       "bool"
      ]
     },
     "execution_count": 30,
     "metadata": {},
     "output_type": "execute_result"
    }
   ],
   "source": [
    "boo= True\n",
    "type(boo)"
   ]
  },
  {
   "cell_type": "code",
   "execution_count": 31,
   "id": "60a5ec74",
   "metadata": {},
   "outputs": [
    {
     "data": {
      "text/plain": [
       "str"
      ]
     },
     "execution_count": 31,
     "metadata": {},
     "output_type": "execute_result"
    }
   ],
   "source": [
    "s=\"data\"\n",
    "type(s)"
   ]
  },
  {
   "cell_type": "code",
   "execution_count": null,
   "id": "5bc626b2",
   "metadata": {},
   "outputs": [],
   "source": []
  }
 ],
 "metadata": {
  "kernelspec": {
   "display_name": "Python 3",
   "language": "python",
   "name": "python3"
  },
  "language_info": {
   "codemirror_mode": {
    "name": "ipython",
    "version": 3
   },
   "file_extension": ".py",
   "mimetype": "text/x-python",
   "name": "python",
   "nbconvert_exporter": "python",
   "pygments_lexer": "ipython3",
   "version": "3.8.8"
  }
 },
 "nbformat": 4,
 "nbformat_minor": 5
}
