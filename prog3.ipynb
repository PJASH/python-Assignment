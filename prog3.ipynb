{
 "cells": [
  {
   "cell_type": "code",
   "execution_count": 22,
   "id": "bf4a5c66",
   "metadata": {},
   "outputs": [],
   "source": [
    "def info(name,age,mark,l,t,d,s):\n",
    "    print(f\"Name : \",name ,\"     Type:\",type(name))\n",
    "    print(f\"Age : \",age,\"       Type:\",type(age))\n",
    "    print(f\"Mark : \",mark,\"     Type:\",type(mark))\n",
    "    print(f\"List : \",l,\"        Type:\",type(l))\n",
    "    print(f\"Tuple : \",t,\"      Type:\",type(t))\n",
    "    print(f\"Dict : \",d,\"      Type:\",type(d))\n",
    "    print(f\"Set : \",s,\"       Type:\",type(s))"
   ]
  },
  {
   "cell_type": "code",
   "execution_count": 23,
   "id": "f9792b4c",
   "metadata": {},
   "outputs": [
    {
     "name": "stdout",
     "output_type": "stream",
     "text": [
      "Name :  ABC      Type: <class 'str'>\n",
      "Age :  20        Type: <class 'int'>\n",
      "Mark :  90.4      Type: <class 'float'>\n",
      "List :  [1, 2, 3]         Type: <class 'list'>\n",
      "Tuple :  (1, 2, 34, 3)       Type: <class 'tuple'>\n",
      "Dict :  {1: 2, 2: 3}       Type: <class 'dict'>\n",
      "Set :  {3, 445, 6}        Type: <class 'set'>\n"
     ]
    }
   ],
   "source": [
    "info(\"ABC\",20,90.4,[1,2,3],(1,2,34,3),{1:2,2:3},{3,445,6})"
   ]
  },
  {
   "cell_type": "code",
   "execution_count": 24,
   "id": "3d07f5a0",
   "metadata": {},
   "outputs": [],
   "source": [
    "def loop(d):\n",
    "    for i,j in d.items():\n",
    "        print(f\"Value:{i}  Key:{j}\")"
   ]
  },
  {
   "cell_type": "code",
   "execution_count": 14,
   "id": "9d6b4806",
   "metadata": {},
   "outputs": [
    {
     "name": "stdout",
     "output_type": "stream",
     "text": [
      "Value:1  Key:2\n",
      "Value:3  Key:4\n",
      "Value:5  Key:6\n"
     ]
    }
   ],
   "source": [
    "loop({1:2,3:4,5:6})"
   ]
  },
  {
   "cell_type": "code",
   "execution_count": 9,
   "id": "138a6c51",
   "metadata": {},
   "outputs": [],
   "source": [
    "def num(a,b):\n",
    "    return f\"The 2 num are \",a,b\n",
    "    "
   ]
  },
  {
   "cell_type": "code",
   "execution_count": 10,
   "id": "5da95ae0",
   "metadata": {},
   "outputs": [
    {
     "name": "stdout",
     "output_type": "stream",
     "text": [
      "('The 2 num are ', 5, 6)\n"
     ]
    }
   ],
   "source": [
    "nu=num(5,6)\n",
    "print(nu)"
   ]
  },
  {
   "cell_type": "code",
   "execution_count": null,
   "id": "6f8c8ece",
   "metadata": {},
   "outputs": [],
   "source": []
  }
 ],
 "metadata": {
  "kernelspec": {
   "display_name": "Python 3",
   "language": "python",
   "name": "python3"
  },
  "language_info": {
   "codemirror_mode": {
    "name": "ipython",
    "version": 3
   },
   "file_extension": ".py",
   "mimetype": "text/x-python",
   "name": "python",
   "nbconvert_exporter": "python",
   "pygments_lexer": "ipython3",
   "version": "3.8.8"
  }
 },
 "nbformat": 4,
 "nbformat_minor": 5
}
